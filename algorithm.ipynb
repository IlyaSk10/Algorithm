{
  "nbformat": 4,
  "nbformat_minor": 0,
  "metadata": {
    "colab": {
      "name": "Untitled5.ipynb",
      "provenance": [],
      "collapsed_sections": []
    },
    "kernelspec": {
      "name": "python3",
      "display_name": "Python 3"
    },
    "accelerator": "GPU"
  },
  "cells": [
    {
      "cell_type": "code",
      "metadata": {
        "id": "5QPDPUi-PLEb",
        "colab_type": "code",
        "colab": {
          "base_uri": "https://localhost:8080/",
          "height": 204
        },
        "outputId": "63a3d513-e3bb-4c6d-e98b-50d34ea1cdfd"
      },
      "source": [
        "# скачиваем\n",
        "!wget 'http://pascal.inrialpes.fr/data2/daly/daly/daly1.1.0.pkl'"
      ],
      "execution_count": 2,
      "outputs": [
        {
          "output_type": "stream",
          "text": [
            "--2020-07-29 10:23:32--  http://pascal.inrialpes.fr/data2/daly/daly/daly1.1.0.pkl\n",
            "Resolving pascal.inrialpes.fr (pascal.inrialpes.fr)... 194.199.16.17\n",
            "Connecting to pascal.inrialpes.fr (pascal.inrialpes.fr)|194.199.16.17|:80... connected.\n",
            "HTTP request sent, awaiting response... 200 OK\n",
            "Length: 14120647 (13M)\n",
            "Saving to: ‘daly1.1.0.pkl’\n",
            "\n",
            "daly1.1.0.pkl       100%[===================>]  13.47M  4.60MB/s    in 2.9s    \n",
            "\n",
            "2020-07-29 10:23:36 (4.60 MB/s) - ‘daly1.1.0.pkl’ saved [14120647/14120647]\n",
            "\n"
          ],
          "name": "stdout"
        }
      ]
    },
    {
      "cell_type": "code",
      "metadata": {
        "id": "UQakaoz3K8qc",
        "colab_type": "code",
        "colab": {}
      },
      "source": [
        "# читаем датасет\n",
        "import pickle\n",
        "with open(\"daly1.1.0.pkl\", \"rb\") as f:\n",
        "    daly = pickle.load(f, encoding='latin1')"
      ],
      "execution_count": 3,
      "outputs": []
    },
    {
      "cell_type": "code",
      "metadata": {
        "id": "Sq38D7SMFIB-",
        "colab_type": "code",
        "colab": {
          "base_uri": "https://localhost:8080/",
          "height": 187
        },
        "outputId": "7b2d9288-b2e7-4921-f2ac-2da68018e683"
      },
      "source": [
        "# кол-во классов\n",
        "daly['labels']"
      ],
      "execution_count": 4,
      "outputs": [
        {
          "output_type": "execute_result",
          "data": {
            "text/plain": [
              "['ApplyingMakeUpOnLips',\n",
              " 'BrushingTeeth',\n",
              " 'CleaningFloor',\n",
              " 'CleaningWindows',\n",
              " 'Drinking',\n",
              " 'FoldingTextile',\n",
              " 'Ironing',\n",
              " 'Phoning',\n",
              " 'PlayingHarmonica',\n",
              " 'TakingPhotosOrVideos']"
            ]
          },
          "metadata": {
            "tags": []
          },
          "execution_count": 4
        }
      ]
    },
    {
      "cell_type": "code",
      "metadata": {
        "id": "5JcvIJPCbpuj",
        "colab_type": "code",
        "colab": {
          "base_uri": "https://localhost:8080/",
          "height": 34
        },
        "outputId": "ed3051be-4a6d-4293-86d6-5bb3c5e77bb2"
      },
      "source": [
        "# общее число инстансов\n",
        "vid=list(daly['annot'].keys())\n",
        "s=0\n",
        "for number in vid:\n",
        "  classes=list(daly['annot'][number]['annot'].keys())\n",
        "  s=s+sum([len(daly['annot'][number]['annot'][classes[i]])  for i in range(len(classes))])\n",
        "print('Общее число инстансов',s)"
      ],
      "execution_count": 5,
      "outputs": [
        {
          "output_type": "stream",
          "text": [
            "Общее число инстансов 3907\n"
          ],
          "name": "stdout"
        }
      ]
    },
    {
      "cell_type": "code",
      "metadata": {
        "id": "6ZOVRK0_oqRc",
        "colab_type": "code",
        "colab": {}
      },
      "source": [
        "# подсчет распределения классов\n",
        "import collections\n",
        "c = collections.Counter()\n",
        "vid=list(daly['annot'].keys())\n",
        "for number in vid:\n",
        "  classes=daly['annot'][number]['annot'].keys()\n",
        "  for key in classes:\n",
        "    c[key]+=len(daly['annot'][number]['annot'][key])"
      ],
      "execution_count": null,
      "outputs": []
    },
    {
      "cell_type": "code",
      "metadata": {
        "id": "qmrOkXVVppLN",
        "colab_type": "code",
        "colab": {
          "base_uri": "https://localhost:8080/",
          "height": 403
        },
        "outputId": "c6600d4c-95fd-4120-d672-22bb4d218095"
      },
      "source": [
        "# график распределения классов\n",
        "import matplotlib.pyplot as plt\n",
        "plt.bar(c.keys(), c.values())\n",
        "plt.xlabel('Class')\n",
        "plt.ylabel('Number of instances')\n",
        "plt.xticks(rotation=75)"
      ],
      "execution_count": null,
      "outputs": [
        {
          "output_type": "execute_result",
          "data": {
            "text/plain": [
              "([0, 1, 2, 3, 4, 5, 6, 7, 8, 9], <a list of 10 Text major ticklabel objects>)"
            ]
          },
          "metadata": {
            "tags": []
          },
          "execution_count": 64
        },
        {
          "output_type": "display_data",
          "data": {
            "image/png": "[encoded data removed]",
            "text/plain": [
              "<Figure size 432x288 with 1 Axes>"
            ]
          },
          "metadata": {
            "tags": [],
            "needs_background": "light"
          }
        }
      ]
    },
    {
      "cell_type": "markdown",
      "metadata": {
        "id": "-1OMr0b_786G",
        "colab_type": "text"
      },
      "source": [
        "Задачу можно рассматривать как задачу регрессии(определение границ boundary box) и классификации(определить что внутри box)"
      ]
    },
    {
      "cell_type": "markdown",
      "metadata": {
        "id": "xCIuIFmy6qep",
        "colab_type": "text"
      },
      "source": [
        "В задаче классификации по графику видно, что классы не сбалансированы, а значит метрика accuracy_score не подходит. Лучше подойдет precision, recall, confusion matrix. В случае многоклассовой классификации можно использовать микро- или макро- усреднение.\n"
      ]
    },
    {
      "cell_type": "markdown",
      "metadata": {
        "id": "uupCWs6l95M9",
        "colab_type": "text"
      },
      "source": [
        "Для определения правильности предсказания границ boundary box можно использовать метрику mean average precision (MAP) с усреднением по всем категориям "
      ]
    },
    {
      "cell_type": "code",
      "metadata": {
        "id": "_9ykQidTu6jX",
        "colab_type": "code",
        "colab": {
          "base_uri": "https://localhost:8080/",
          "height": 34
        },
        "outputId": "ebdc9f21-72eb-4b94-9079-605fd1fd2f87"
      },
      "source": [
        "vid='K6xXngYnVK8.mp4'\n",
        "# количество кадров\n",
        "len(daly['annot'][vid]['annot']['Drinking'][0]['keyframes'])"
      ],
      "execution_count": 10,
      "outputs": [
        {
          "output_type": "execute_result",
          "data": {
            "text/plain": [
              "5"
            ]
          },
          "metadata": {
            "tags": []
          },
          "execution_count": 10
        }
      ]
    },
    {
      "cell_type": "markdown",
      "metadata": {
        "id": "CEoXS0hH7KEk",
        "colab_type": "text"
      },
      "source": [
        "В видео есть инстанс или несколько инстансов и количество кадров от 1 до 5 на каждый инстанс. Каждый кадр описывается boundary box, pose,objects. И именно каждый кадр и подается на вход сети."
      ]
    },
    {
      "cell_type": "markdown",
      "metadata": {
        "id": "_PAcMwksFdsP",
        "colab_type": "text"
      },
      "source": [
        "Датасет всего лишь разметка данных. Сами данные нужно скачать по меткам из daly['annot'].keys() и в соответствии с данными keyframes разбить на кадры"
      ]
    },
    {
      "cell_type": "markdown",
      "metadata": {
        "id": "5qZhRb9l8qTN",
        "colab_type": "text"
      },
      "source": [
        "Для начала можно попробовать 2-x этапные методы (сначала определить регионы, а потом пройтись классификатором для определения меток классов). Например, можно использовать Faster R-CNN в from torchvision.models.detection import fasterrcnn_resnet50_fpn"
      ]
    },
    {
      "cell_type": "markdown",
      "metadata": {
        "id": "RPbs_RToYgWB",
        "colab_type": "text"
      },
      "source": [
        "В процессе обучения на вход сети подается Tensor([xmin,ymin,xmax,ymax]) xmin,ymin,xmax,ymax-размеры boundary box и каждому изображению внутри box сопоставляется label на выходе сети."
      ]
    },
    {
      "cell_type": "markdown",
      "metadata": {
        "id": "3SI0XPErLqqu",
        "colab_type": "text"
      },
      "source": [
        "После настройки весов(веса настраиваются для минимизации loss) при валидации на вход подается кадр, на выходе box(xmin,ymin,xmax,ymax) и метка класса(предсказание того, что внутри box)."
      ]
    },
    {
      "cell_type": "markdown",
      "metadata": {
        "id": "dGVDcHq4pxKh",
        "colab_type": "text"
      },
      "source": [
        "рассчитывается predict как процент правильных ответов классификатора и доля пересечений предсказанных bounding box с истинным положением"
      ]
    }
  ]
}